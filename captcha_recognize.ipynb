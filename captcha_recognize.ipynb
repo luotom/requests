{
  "nbformat": 4,
  "nbformat_minor": 0,
  "metadata": {
    "colab": {
      "name": "captcha_recognize.ipynb",
      "provenance": [],
      "collapsed_sections": [],
      "include_colab_link": true
    },
    "kernelspec": {
      "name": "python3",
      "display_name": "Python 3"
    },
    "accelerator": "GPU"
  },
  "cells": [
    {
      "cell_type": "markdown",
      "metadata": {
        "id": "view-in-github",
        "colab_type": "text"
      },
      "source": [
        "<a href=\"https://colab.research.google.com/github/luotom/requests/blob/master/captcha_recognize.ipynb\" target=\"_parent\"><img src=\"https://colab.research.google.com/assets/colab-badge.svg\" alt=\"Open In Colab\"/></a>"
      ]
    },
    {
      "cell_type": "code",
      "metadata": {
        "id": "_fXvjjotkiq0",
        "colab_type": "code",
        "outputId": "000f1832-8dd6-4fbd-802f-98717392c9a0",
        "colab": {
          "base_uri": "https://localhost:8080/",
          "height": 80
        }
      },
      "source": [
        "import tensorflow as tf\n",
        "device_name = tf.test.gpu_device_name()\n",
        "if device_name != '/device:GPU:0':\n",
        "  raise SystemError('GPU device not found')\n",
        "print('Found GPU at: {}'.format(device_name))"
      ],
      "execution_count": 0,
      "outputs": [
        {
          "output_type": "display_data",
          "data": {
            "text/html": [
              "<p style=\"color: red;\">\n",
              "The default version of TensorFlow in Colab will soon switch to TensorFlow 2.x.<br>\n",
              "We recommend you <a href=\"https://www.tensorflow.org/guide/migrate\" target=\"_blank\">upgrade</a> now \n",
              "or ensure your notebook will continue to use TensorFlow 1.x via the <code>%tensorflow_version 1.x</code> magic:\n",
              "<a href=\"https://colab.research.google.com/notebooks/tensorflow_version.ipynb\" target=\"_blank\">more info</a>.</p>\n"
            ],
            "text/plain": [
              "<IPython.core.display.HTML object>"
            ]
          },
          "metadata": {
            "tags": []
          }
        },
        {
          "output_type": "stream",
          "text": [
            "Found GPU at: /device:GPU:0\n"
          ],
          "name": "stdout"
        }
      ]
    },
    {
      "cell_type": "code",
      "metadata": {
        "id": "KDfuZ09Pk14T",
        "colab_type": "code",
        "colab": {}
      },
      "source": [
        "from tensorflow.python.client import device_lib\n",
        "device_lib.list_local_devices()\n"
      ],
      "execution_count": 0,
      "outputs": []
    },
    {
      "cell_type": "code",
      "metadata": {
        "id": "aVE-Tb12pp5h",
        "colab_type": "code",
        "colab": {}
      },
      "source": [
        "!cat /proc/meminfo"
      ],
      "execution_count": 0,
      "outputs": []
    },
    {
      "cell_type": "code",
      "metadata": {
        "id": "UdX-DYR-rHTw",
        "colab_type": "code",
        "colab": {}
      },
      "source": [
        "from captcha.image import ImageCaptcha\n",
        "import matplotlib.pyplot as plt\n",
        "import numpy as np\n",
        "import random\n",
        "import string\n",
        "\n",
        "%matplotlib inline\n",
        "%config InlineBackend.figure_format = 'retina'"
      ],
      "execution_count": 0,
      "outputs": []
    },
    {
      "cell_type": "code",
      "metadata": {
        "id": "_MExsUpwsOpu",
        "colab_type": "code",
        "outputId": "6d4d5a0f-17c7-4ab8-9a9f-aa6e6f78e187",
        "colab": {
          "base_uri": "https://localhost:8080/",
          "height": 34
        }
      },
      "source": [
        "characters = string.digits + string.ascii_uppercase\n",
        "print(characters)"
      ],
      "execution_count": 0,
      "outputs": [
        {
          "output_type": "stream",
          "text": [
            "0123456789ABCDEFGHIJKLMNOPQRSTUVWXYZ\n"
          ],
          "name": "stdout"
        }
      ]
    },
    {
      "cell_type": "code",
      "metadata": {
        "id": "KY_WDQJvtJ7u",
        "colab_type": "code",
        "outputId": "b965cce6-8bea-44b1-ad8d-218565f05ef5",
        "colab": {
          "base_uri": "https://localhost:8080/",
          "height": 237
        }
      },
      "source": [
        "width, height, n_len, n_class = 170, 80, 4, len(characters)\n",
        "generator = ImageCaptcha(width=width, height=height)\n",
        "random_str = ''.join([random.choice(characters) for j in range(4)])\n",
        "img = generator.generate_image(random_str)\n",
        "\n",
        "plt.imshow(img)\n",
        "plt.title(random_str)"
      ],
      "execution_count": 0,
      "outputs": [
        {
          "output_type": "execute_result",
          "data": {
            "text/plain": [
              "Text(0.5, 1.0, 'E91J')"
            ]
          },
          "metadata": {
            "tags": []
          },
          "execution_count": 10
        },
        {
          "output_type": "display_data",
          "data": {
            "image/png": "[encoded data removed]",
            "text/plain": [
              "<Figure size 432x288 with 1 Axes>"
            ]
          },
          "metadata": {
            "tags": [],
            "image/png": {
              "width": 369,
              "height": 203
            }
          }
        }
      ]
    },
    {
      "cell_type": "code",
      "metadata": {
        "id": "S5tHOfeIuCqd",
        "colab_type": "code",
        "colab": {
          "base_uri": "https://localhost:8080/",
          "height": 218
        },
        "outputId": "b13604c9-724f-47c6-a94f-0d2b230e22cc"
      },
      "source": [
        "#/usr/share/fonts/truetype/liberation/LiberationMono-Bold.ttf\n",
        "import random\n",
        "import string\n",
        "from PIL import Image, ImageDraw, ImageFont\n",
        "import matplotlib.pyplot as plt\n",
        "\n",
        "\n",
        "class Captcha:\n",
        "    # 生成几位数的验证码\n",
        "    number = 4\n",
        "    # 验证码图片的高度和宽度\n",
        "    size = (110, 45)\n",
        "    # 验证码字体大小\n",
        "    fontsize = 25\n",
        "    # 加入干扰线条数\n",
        "    line_number = 20\n",
        "\n",
        "    # 构建一个验证码源文本\n",
        "    SOURCE = list(string.ascii_letters)\n",
        "    for index in range(0, 10):\n",
        "        SOURCE.append(str(index))\n",
        "\n",
        "    # 用来绘制干扰线\n",
        "    @classmethod\n",
        "    def __gene_line(cls, draw, width, height):\n",
        "        x, y = random.randint(0, width), random.randint(0, height)\n",
        "        begin = (x, y)\n",
        "        end = (x+random.choice([18, 20, -5]), y+random.choice([10, -10, 15, 0]))\n",
        "        draw.line([begin, end], fill=cls.__gene_random_color())\n",
        "\n",
        "    # 用来绘制干扰点\n",
        "    @classmethod\n",
        "    def __gene_points(cls, draw, point_chance, width, height):\n",
        "        chance = min(100, max(0, int(point_chance)))\n",
        "        for w in range(width):\n",
        "            for h in range(height):\n",
        "                tmp = random.randint(0, 100)\n",
        "                if tmp > 100 - chance:\n",
        "                    draw.point((w, h), fill=cls.__gene_random_color())\n",
        "\n",
        "    # 生成随机的颜色\n",
        "    @classmethod\n",
        "    def __choose_random_color(cls):\n",
        "        colors = [(220, 20, 60), (0, 0, 255), (0, 100, 0), (255, 255, 0), (0, 0, 0), (105, 105, 105)]\n",
        "        return random.choice(colors)\n",
        "\n",
        "    # 生成随机的颜色\n",
        "    @classmethod\n",
        "    def __gene_random_color(cls, start=0, end=255):\n",
        "        random.seed()\n",
        "        return random.randint(start, end), random.randint(start, end), random.randint(start, end)\n",
        "\n",
        "    # 随机选择一个字体\n",
        "    @classmethod\n",
        "    def __gene_random_font(cls):\n",
        "        return '/usr/share/fonts/truetype/liberation/LiberationMono-Bold.ttf'\n",
        "\n",
        "    # 用来随机生成一个字符串\n",
        "    @classmethod\n",
        "    def gene_text(cls, number):\n",
        "        # num是生成验证码的位数\n",
        "        return ''.join(random.sample(cls.SOURCE, number))\n",
        "\n",
        "    # 生成验证码\n",
        "    @classmethod\n",
        "    def gene_graph_captcha(cls):\n",
        "        # 验证码图片的高和宽\n",
        "        width, height = cls.size\n",
        "        # 创建图片\n",
        "        image = Image.new('RGBA', (width, height), (255, 255, 255))\n",
        "        # 验证码的字体\n",
        "        font = ImageFont.truetype(cls.__gene_random_font(), cls.fontsize)\n",
        "        # 创建画笔\n",
        "        draw = ImageDraw.Draw(image)\n",
        "        # 生成字符串\n",
        "        text = cls.gene_text(cls.number)\n",
        "        # 获取字体尺寸\n",
        "        font_width, font_height = font.getsize(text)\n",
        "        # 填充字符串\n",
        "        x_pos, y_pos = 2, 8\n",
        "        for t in text:\n",
        "            draw.text((x_pos, y_pos), t, font=font, fill=cls.__choose_random_color())\n",
        "            x_pos += 28\n",
        "        # 绘制干扰线\n",
        "        for x in range(0, cls.line_number):\n",
        "            cls.__gene_line(draw, width, height)\n",
        "        # 绘制噪点\n",
        "        # cls.__gene_points(draw, 10, width, height)\n",
        "        # image.save('images/gen2.png')\n",
        "        return text, image\n",
        "\n",
        "\n",
        "# title, img = Captcha.gene_graph_captcha()\n",
        "# plt.imshow(img)\n",
        "# plt.title(title)"
      ],
      "execution_count": 2,
      "outputs": [
        {
          "output_type": "execute_result",
          "data": {
            "text/plain": [
              "Text(0.5, 1.0, 'M8hD')"
            ]
          },
          "metadata": {
            "tags": []
          },
          "execution_count": 2
        },
        {
          "output_type": "display_data",
          "data": {
            "image/png": "[encoded data removed]",
            "text/plain": [
              "<Figure size 432x288 with 1 Axes>"
            ]
          },
          "metadata": {
            "tags": []
          }
        }
      ]
    },
    {
      "cell_type": "code",
      "metadata": {
        "id": "eG1unU4UznTl",
        "colab_type": "code",
        "colab": {}
      },
      "source": [
        "from tensorflow.keras.utils import Sequence\n",
        "import numpy as np\n",
        "\n",
        "class CaptchaSequence(Sequence):\n",
        "    def __init__(self, batch_size, steps, classes=62, n_len=4, width=110, height=45):\n",
        "        self.batch_size = batch_size\n",
        "        self.steps = steps\n",
        "        self.classes = classes\n",
        "        self.n_len = n_len\n",
        "        self.width = width\n",
        "        self.height = height\n",
        "    \n",
        "    def __len__(self):\n",
        "        return self.steps\n",
        "    \n",
        "    def __getitem__(self, id):\n",
        "        x = np.zeros((self.batch_size, self.height, self.width, 4), dtype=np.float32)\n",
        "        y = [np.zeros((self.batch_size, self.classes), dtype=np.uint8) for i in range(self.n_len)]\n",
        "        for i in range(self.batch_size):\n",
        "            captcha = Captcha()\n",
        "            text, img = captcha.gene_graph_captcha()\n",
        "            x[i] = np.array(img) / 255\n",
        "            for j, character in enumerate(text):\n",
        "                y[j][i:] = 0\n",
        "                y[j][i, captcha.SOURCE.index(character)] = 1\n",
        "        return x, y"
      ],
      "execution_count": 0,
      "outputs": []
    },
    {
      "cell_type": "code",
      "metadata": {
        "id": "KNg9UKGb4doX",
        "colab_type": "code",
        "colab": {
          "base_uri": "https://localhost:8080/",
          "height": 254
        },
        "outputId": "a7ecbec2-7d39-4a61-b2c2-67ac4fb6dd60"
      },
      "source": [
        "def decode(y):\n",
        "    characters = list(string.ascii_letters)\n",
        "    for index in range(0, 10):\n",
        "        characters.append(str(index))\n",
        "    y = np.argmax(np.array(y), axis=2)[:,0]\n",
        "    return ''.join([characters[k] for k in y])\n",
        "\n",
        "data = CaptchaSequence(batch_size=1, steps=1)\n",
        "x, y = data[0]\n",
        "plt.imshow(x[0])\n",
        "plt.title(decode(y))"
      ],
      "execution_count": 20,
      "outputs": [
        {
          "output_type": "stream",
          "text": [
            "['a', 'b', 'c', 'd', 'e', 'f', 'g', 'h', 'i', 'j', 'k', 'l', 'm', 'n', 'o', 'p', 'q', 'r', 's', 't', 'u', 'v', 'w', 'x', 'y', 'z', 'A', 'B', 'C', 'D', 'E', 'F', 'G', 'H', 'I', 'J', 'K', 'L', 'M', 'N', 'O', 'P', 'Q', 'R', 'S', 'T', 'U', 'V', 'W', 'X', 'Y', 'Z', '0', '1', '2', '3', '4', '5', '6', '7', '8', '9']\n"
          ],
          "name": "stdout"
        },
        {
          "output_type": "execute_result",
          "data": {
            "text/plain": [
              "Text(0.5, 1.0, 'kzNW')"
            ]
          },
          "metadata": {
            "tags": []
          },
          "execution_count": 20
        },
        {
          "output_type": "display_data",
          "data": {
            "image/png": "[encoded data removed]",
            "text/plain": [
              "<Figure size 432x288 with 1 Axes>"
            ]
          },
          "metadata": {
            "tags": []
          }
        }
      ]
    },
    {
      "cell_type": "code",
      "metadata": {
        "id": "_WceS9QG98ct",
        "colab_type": "code",
        "colab": {}
      },
      "source": [
        "import tensorflow as tf\n",
        "import tensorflow.keras.backend as K\n",
        "from tensorflow.keras.models import *\n",
        "from tensorflow.keras.layers import *\n",
        "\n",
        "config = tf.ConfigProto()\n",
        "config.gpu_options.allow_growth=True\n",
        "sess = tf.Session(config=config)\n",
        "K.set_session(sess)"
      ],
      "execution_count": 0,
      "outputs": []
    },
    {
      "cell_type": "code",
      "metadata": {
        "id": "1VouK3mL5qU9",
        "colab_type": "code",
        "colab": {}
      },
      "source": [
        "\n",
        "input_tensor = Input((45, 110, 4))\n",
        "x = input_tensor\n",
        "for i, n_cnn in enumerate([2, 2, 2, 2, 2]):\n",
        "    for j in range(n_cnn):\n",
        "        x = Conv2D(32*2**min(i, 3), kernel_size=3, padding='same', kernel_initializer='he_uniform')(x)\n",
        "        x = BatchNormalization()(x)\n",
        "        x = Activation('relu')(x)\n",
        "    x = MaxPooling2D(2)(x)\n",
        "\n",
        "x = Flatten()(x)\n",
        "x = [Dense(62, activation='softmax', name='c%d'%(i+1))(x) for i in range(4)]\n",
        "model = Model(inputs=input_tensor, outputs=x)\n"
      ],
      "execution_count": 0,
      "outputs": []
    },
    {
      "cell_type": "code",
      "metadata": {
        "id": "9p9t5sSR-MPS",
        "colab_type": "code",
        "colab": {
          "base_uri": "https://localhost:8080/",
          "height": 34
        },
        "outputId": "23490a7e-d762-4682-cbc7-851a6b192da2"
      },
      "source": [
        "!grep 'physical id' /proc/cpuinfo | sort -u"
      ],
      "execution_count": 26,
      "outputs": [
        {
          "output_type": "stream",
          "text": [
            "physical id\t: 0\n"
          ],
          "name": "stdout"
        }
      ]
    },
    {
      "cell_type": "code",
      "metadata": {
        "id": "DlR3H8F0AJiP",
        "colab_type": "code",
        "colab": {
          "base_uri": "https://localhost:8080/",
          "height": 34
        },
        "outputId": "0b09b354-c6ec-46b5-aa91-8b848b6628d3"
      },
      "source": [
        "!grep 'core id' /proc/cpuinfo | sort -u | wc -l"
      ],
      "execution_count": 29,
      "outputs": [
        {
          "output_type": "stream",
          "text": [
            "1\n"
          ],
          "name": "stdout"
        }
      ]
    },
    {
      "cell_type": "code",
      "metadata": {
        "id": "9-Us9WEcANi_",
        "colab_type": "code",
        "colab": {
          "base_uri": "https://localhost:8080/",
          "height": 34
        },
        "outputId": "4c256a1a-7676-49aa-9223-d15354125a53"
      },
      "source": [
        "!grep 'processor' /proc/cpuinfo | sort -u | wc -l"
      ],
      "execution_count": 30,
      "outputs": [
        {
          "output_type": "stream",
          "text": [
            "2\n"
          ],
          "name": "stdout"
        }
      ]
    },
    {
      "cell_type": "code",
      "metadata": {
        "id": "6xvIZCdJAfaG",
        "colab_type": "code",
        "colab": {
          "base_uri": "https://localhost:8080/",
          "height": 658
        },
        "outputId": "27b9b15d-b20d-44aa-f108-824d8a9c309c"
      },
      "source": [
        "from tensorflow.keras.callbacks import EarlyStopping, CSVLogger, ModelCheckpoint\n",
        "from tensorflow.keras.optimizers import *\n",
        "\n",
        "train_data = CaptchaSequence(batch_size=128, steps=1000)\n",
        "valid_data = CaptchaSequence(batch_size=128, steps=100)\n",
        "callbacks = [EarlyStopping(patience=3), ModelCheckpoint('cnn_best.h5', save_best_only=True)]\n",
        "\n",
        "model.compile(loss='categorical_crossentropy',\n",
        "              optimizer=Adam(1e-3, amsgrad=True), \n",
        "              metrics=['accuracy'])\n",
        "model.fit_generator(train_data, epochs=100, validation_data=valid_data, workers=2, use_multiprocessing=True,\n",
        "                    callbacks=callbacks)\n"
      ],
      "execution_count": 36,
      "outputs": [
        {
          "output_type": "stream",
          "text": [
            "Epoch 1/100\n",
            " 999/1000 [============================>.] - ETA: 0s - loss: 1.5925 - c1_loss: 0.3977 - c2_loss: 0.3762 - c3_loss: 0.3827 - c4_loss: 0.4359 - c1_acc: 0.9091 - c2_acc: 0.9140 - c3_acc: 0.9133 - c4_acc: 0.8999Epoch 1/100\n",
            "1000/1000 [==============================] - 244s 244ms/step - loss: 1.5909 - c1_loss: 0.3973 - c2_loss: 0.3758 - c3_loss: 0.3823 - c4_loss: 0.4355 - c1_acc: 0.9092 - c2_acc: 0.9141 - c3_acc: 0.9134 - c4_acc: 0.9000 - val_loss: 0.0132 - val_c1_loss: 0.0022 - val_c2_loss: 0.0023 - val_c3_loss: 0.0062 - val_c4_loss: 0.0025 - val_c1_acc: 1.0000 - val_c2_acc: 1.0000 - val_c3_acc: 0.9984 - val_c4_acc: 0.9998\n",
            "Epoch 2/100\n",
            " 999/1000 [============================>.] - ETA: 0s - loss: 0.0054 - c1_loss: 0.0013 - c2_loss: 0.0012 - c3_loss: 0.0013 - c4_loss: 0.0017 - c1_acc: 0.9999 - c2_acc: 1.0000 - c3_acc: 0.9999 - c4_acc: 0.9998Epoch 1/100\n",
            "1000/1000 [==============================] - 233s 233ms/step - loss: 0.0054 - c1_loss: 0.0013 - c2_loss: 0.0012 - c3_loss: 0.0013 - c4_loss: 0.0017 - c1_acc: 0.9999 - c2_acc: 1.0000 - c3_acc: 0.9999 - c4_acc: 0.9998 - val_loss: 0.0081 - val_c1_loss: 0.0012 - val_c2_loss: 0.0026 - val_c3_loss: 0.0016 - val_c4_loss: 0.0027 - val_c1_acc: 1.0000 - val_c2_acc: 0.9995 - val_c3_acc: 1.0000 - val_c4_acc: 0.9999\n",
            "Epoch 3/100\n",
            " 999/1000 [============================>.] - ETA: 0s - loss: 0.0029 - c1_loss: 5.6979e-04 - c2_loss: 7.3129e-04 - c3_loss: 8.6231e-04 - c4_loss: 7.3973e-04 - c1_acc: 1.0000 - c2_acc: 0.9999 - c3_acc: 0.9999 - c4_acc: 0.9999Epoch 1/100\n",
            "1000/1000 [==============================] - 234s 234ms/step - loss: 0.0029 - c1_loss: 5.6952e-04 - c2_loss: 7.3090e-04 - c3_loss: 8.6180e-04 - c4_loss: 7.3932e-04 - c1_acc: 1.0000 - c2_acc: 0.9999 - c3_acc: 0.9999 - c4_acc: 0.9999 - val_loss: 0.0021 - val_c1_loss: 4.4362e-04 - val_c2_loss: 4.9443e-04 - val_c3_loss: 5.6070e-04 - val_c4_loss: 5.6352e-04 - val_c1_acc: 1.0000 - val_c2_acc: 0.9999 - val_c3_acc: 0.9999 - val_c4_acc: 1.0000\n",
            "Epoch 4/100\n",
            " 999/1000 [============================>.] - ETA: 0s - loss: 0.0025 - c1_loss: 5.0640e-04 - c2_loss: 4.8715e-04 - c3_loss: 7.8720e-04 - c4_loss: 6.7938e-04 - c1_acc: 1.0000 - c2_acc: 1.0000 - c3_acc: 0.9999 - c4_acc: 0.9999Epoch 1/100\n",
            "1000/1000 [==============================] - 233s 233ms/step - loss: 0.0025 - c1_loss: 5.0619e-04 - c2_loss: 4.8782e-04 - c3_loss: 7.8678e-04 - c4_loss: 6.7932e-04 - c1_acc: 1.0000 - c2_acc: 1.0000 - c3_acc: 0.9999 - c4_acc: 0.9999 - val_loss: 0.0024 - val_c1_loss: 3.4811e-04 - val_c2_loss: 7.4507e-04 - val_c3_loss: 5.6343e-04 - val_c4_loss: 7.7827e-04 - val_c1_acc: 1.0000 - val_c2_acc: 1.0000 - val_c3_acc: 0.9999 - val_c4_acc: 0.9999\n",
            "Epoch 5/100\n",
            " 999/1000 [============================>.] - ETA: 0s - loss: 0.0016 - c1_loss: 2.8839e-04 - c2_loss: 3.4780e-04 - c3_loss: 4.8731e-04 - c4_loss: 4.6156e-04 - c1_acc: 1.0000 - c2_acc: 1.0000 - c3_acc: 0.9999 - c4_acc: 0.9999Epoch 1/100\n",
            "1000/1000 [==============================] - 233s 233ms/step - loss: 0.0016 - c1_loss: 2.8829e-04 - c2_loss: 3.4764e-04 - c3_loss: 4.8696e-04 - c4_loss: 4.6123e-04 - c1_acc: 1.0000 - c2_acc: 1.0000 - c3_acc: 0.9999 - c4_acc: 0.9999 - val_loss: 9.4769e-04 - val_c1_loss: 2.2687e-04 - val_c2_loss: 2.4782e-04 - val_c3_loss: 2.1494e-04 - val_c4_loss: 2.5806e-04 - val_c1_acc: 1.0000 - val_c2_acc: 1.0000 - val_c3_acc: 1.0000 - val_c4_acc: 1.0000\n",
            "Epoch 6/100\n",
            " 999/1000 [============================>.] - ETA: 0s - loss: 0.0012 - c1_loss: 2.4311e-04 - c2_loss: 2.6973e-04 - c3_loss: 3.7336e-04 - c4_loss: 3.0263e-04 - c1_acc: 1.0000 - c2_acc: 1.0000 - c3_acc: 0.9999 - c4_acc: 1.0000Epoch 1/100\n",
            "1000/1000 [==============================] - 233s 233ms/step - loss: 0.0012 - c1_loss: 2.4303e-04 - c2_loss: 2.6961e-04 - c3_loss: 3.7311e-04 - c4_loss: 3.0252e-04 - c1_acc: 1.0000 - c2_acc: 1.0000 - c3_acc: 0.9999 - c4_acc: 1.0000 - val_loss: 7.6177e-04 - val_c1_loss: 1.7121e-04 - val_c2_loss: 1.8759e-04 - val_c3_loss: 2.0282e-04 - val_c4_loss: 2.0015e-04 - val_c1_acc: 1.0000 - val_c2_acc: 1.0000 - val_c3_acc: 1.0000 - val_c4_acc: 1.0000\n",
            "Epoch 7/100\n",
            " 999/1000 [============================>.] - ETA: 0s - loss: 8.6048e-04 - c1_loss: 1.3845e-04 - c2_loss: 2.0824e-04 - c3_loss: 2.0741e-04 - c4_loss: 3.0638e-04 - c1_acc: 1.0000 - c2_acc: 1.0000 - c3_acc: 1.0000 - c4_acc: 0.9999Epoch 1/100\n",
            "1000/1000 [==============================] - 234s 234ms/step - loss: 8.6183e-04 - c1_loss: 1.3857e-04 - c2_loss: 2.0823e-04 - c3_loss: 2.0845e-04 - c4_loss: 3.0658e-04 - c1_acc: 1.0000 - c2_acc: 1.0000 - c3_acc: 1.0000 - c4_acc: 0.9999 - val_loss: 0.0103 - val_c1_loss: 3.9437e-04 - val_c2_loss: 3.5168e-04 - val_c3_loss: 2.8211e-04 - val_c4_loss: 0.0093 - val_c1_acc: 1.0000 - val_c2_acc: 1.0000 - val_c3_acc: 1.0000 - val_c4_acc: 0.9975\n",
            "Epoch 8/100\n",
            " 999/1000 [============================>.] - ETA: 0s - loss: 0.0012 - c1_loss: 2.5447e-04 - c2_loss: 4.1182e-04 - c3_loss: 2.0328e-04 - c4_loss: 3.0552e-04 - c1_acc: 1.0000 - c2_acc: 0.9999 - c3_acc: 1.0000 - c4_acc: 1.0000Epoch 1/100\n",
            "1000/1000 [==============================] - 233s 233ms/step - loss: 0.0012 - c1_loss: 2.5438e-04 - c2_loss: 4.1154e-04 - c3_loss: 2.0319e-04 - c4_loss: 3.0532e-04 - c1_acc: 1.0000 - c2_acc: 0.9999 - c3_acc: 1.0000 - c4_acc: 1.0000 - val_loss: 6.4786e-04 - val_c1_loss: 1.4984e-04 - val_c2_loss: 2.0917e-04 - val_c3_loss: 1.4595e-04 - val_c4_loss: 1.4290e-04 - val_c1_acc: 1.0000 - val_c2_acc: 1.0000 - val_c3_acc: 1.0000 - val_c4_acc: 1.0000\n",
            "Epoch 9/100\n",
            " 999/1000 [============================>.] - ETA: 0s - loss: 9.2992e-04 - c1_loss: 1.7969e-04 - c2_loss: 2.2493e-04 - c3_loss: 2.0371e-04 - c4_loss: 3.2159e-04 - c1_acc: 1.0000 - c2_acc: 1.0000 - c3_acc: 1.0000 - c4_acc: 1.0000Epoch 1/100\n",
            "1000/1000 [==============================] - 233s 233ms/step - loss: 9.2932e-04 - c1_loss: 1.7960e-04 - c2_loss: 2.2479e-04 - c3_loss: 2.0357e-04 - c4_loss: 3.2136e-04 - c1_acc: 1.0000 - c2_acc: 1.0000 - c3_acc: 1.0000 - c4_acc: 1.0000 - val_loss: 4.0860e-04 - val_c1_loss: 8.6332e-05 - val_c2_loss: 9.0562e-05 - val_c3_loss: 1.0033e-04 - val_c4_loss: 1.3137e-04 - val_c1_acc: 1.0000 - val_c2_acc: 1.0000 - val_c3_acc: 1.0000 - val_c4_acc: 1.0000\n",
            "Epoch 10/100\n",
            " 999/1000 [============================>.] - ETA: 0s - loss: 9.1843e-04 - c1_loss: 1.2772e-04 - c2_loss: 1.9894e-04 - c3_loss: 2.6626e-04 - c4_loss: 3.2551e-04 - c1_acc: 1.0000 - c2_acc: 1.0000 - c3_acc: 1.0000 - c4_acc: 0.9999Epoch 1/100\n",
            "1000/1000 [==============================] - 234s 234ms/step - loss: 9.1824e-04 - c1_loss: 1.2776e-04 - c2_loss: 1.9896e-04 - c3_loss: 2.6618e-04 - c4_loss: 3.2534e-04 - c1_acc: 1.0000 - c2_acc: 1.0000 - c3_acc: 1.0000 - c4_acc: 0.9999 - val_loss: 0.0049 - val_c1_loss: 2.8028e-04 - val_c2_loss: 0.0036 - val_c3_loss: 3.5949e-04 - val_c4_loss: 6.8562e-04 - val_c1_acc: 1.0000 - val_c2_acc: 0.9991 - val_c3_acc: 1.0000 - val_c4_acc: 0.9998\n",
            "Epoch 11/100\n",
            " 999/1000 [============================>.] - ETA: 0s - loss: 5.3811e-04 - c1_loss: 9.0032e-05 - c2_loss: 1.2124e-04 - c3_loss: 1.2409e-04 - c4_loss: 2.0275e-04 - c1_acc: 1.0000 - c2_acc: 1.0000 - c3_acc: 1.0000 - c4_acc: 1.0000Epoch 1/100\n",
            "1000/1000 [==============================] - 233s 233ms/step - loss: 5.3789e-04 - c1_loss: 9.0024e-05 - c2_loss: 1.2121e-04 - c3_loss: 1.2404e-04 - c4_loss: 2.0263e-04 - c1_acc: 1.0000 - c2_acc: 1.0000 - c3_acc: 1.0000 - c4_acc: 1.0000 - val_loss: 4.1466e-04 - val_c1_loss: 1.0508e-04 - val_c2_loss: 1.1319e-04 - val_c3_loss: 9.8316e-05 - val_c4_loss: 9.8080e-05 - val_c1_acc: 1.0000 - val_c2_acc: 1.0000 - val_c3_acc: 1.0000 - val_c4_acc: 1.0000\n",
            "Epoch 12/100\n",
            " 999/1000 [============================>.] - ETA: 0s - loss: 6.1345e-04 - c1_loss: 1.0481e-04 - c2_loss: 2.3475e-04 - c3_loss: 1.2636e-04 - c4_loss: 1.4752e-04 - c1_acc: 1.0000 - c2_acc: 1.0000 - c3_acc: 1.0000 - c4_acc: 1.0000Epoch 1/100\n",
            "1000/1000 [==============================] - 234s 234ms/step - loss: 6.1318e-04 - c1_loss: 1.0479e-04 - c2_loss: 2.3459e-04 - c3_loss: 1.2633e-04 - c4_loss: 1.4746e-04 - c1_acc: 1.0000 - c2_acc: 1.0000 - c3_acc: 1.0000 - c4_acc: 1.0000 - val_loss: 4.6838e-04 - val_c1_loss: 1.4321e-04 - val_c2_loss: 1.0601e-04 - val_c3_loss: 1.2922e-04 - val_c4_loss: 8.9937e-05 - val_c1_acc: 1.0000 - val_c2_acc: 1.0000 - val_c3_acc: 1.0000 - val_c4_acc: 1.0000\n"
          ],
          "name": "stdout"
        },
        {
          "output_type": "execute_result",
          "data": {
            "text/plain": [
              "<tensorflow.python.keras.callbacks.History at 0x7ffaf0b34240>"
            ]
          },
          "metadata": {
            "tags": []
          },
          "execution_count": 36
        }
      ]
    },
    {
      "cell_type": "code",
      "metadata": {
        "id": "9eGhXHTLBBC_",
        "colab_type": "code",
        "colab": {
          "base_uri": "https://localhost:8080/",
          "height": 34
        },
        "outputId": "f1ae3bf5-8de0-4b7f-8f03-276d7c5831a8"
      },
      "source": [
        "!pwd"
      ],
      "execution_count": 31,
      "outputs": [
        {
          "output_type": "stream",
          "text": [
            "/content\n"
          ],
          "name": "stdout"
        }
      ]
    },
    {
      "cell_type": "code",
      "metadata": {
        "id": "wl8YQBjgPp4T",
        "colab_type": "code",
        "colab": {}
      },
      "source": [
        "model.load_weights('cnn_best.h5')\n",
        "\n",
        "callbacks = [EarlyStopping(patience=3), ModelCheckpoint('cnn_best.h5', save_best_only=True)]\n",
        "\n",
        "model.compile(loss='categorical_crossentropy',\n",
        "              optimizer=Adam(1e-4, amsgrad=True), \n",
        "              metrics=['accuracy'])\n",
        "model.fit_generator(train_data, epochs=100, validation_data=valid_data, workers=2, use_multiprocessing=True,\n",
        "                    callbacks=callbacks)\n"
      ],
      "execution_count": 0,
      "outputs": []
    },
    {
      "cell_type": "code",
      "metadata": {
        "id": "K0kAh6h-P5B9",
        "colab_type": "code",
        "colab": {
          "base_uri": "https://localhost:8080/",
          "height": 270
        },
        "outputId": "347287f0-77f6-439b-e4f1-712633451612"
      },
      "source": [
        "X, y = data[0]\n",
        "y_pred = model.predict(X)\n",
        "plt.title('real: %s\\npred:%s'%(decode(y), decode(y_pred)))\n",
        "plt.imshow(X[0], cmap='gray')\n",
        "plt.axis('off')"
      ],
      "execution_count": 41,
      "outputs": [
        {
          "output_type": "stream",
          "text": [
            "['a', 'b', 'c', 'd', 'e', 'f', 'g', 'h', 'i', 'j', 'k', 'l', 'm', 'n', 'o', 'p', 'q', 'r', 's', 't', 'u', 'v', 'w', 'x', 'y', 'z', 'A', 'B', 'C', 'D', 'E', 'F', 'G', 'H', 'I', 'J', 'K', 'L', 'M', 'N', 'O', 'P', 'Q', 'R', 'S', 'T', 'U', 'V', 'W', 'X', 'Y', 'Z', '0', '1', '2', '3', '4', '5', '6', '7', '8', '9']\n",
            "(1, 45, 110, 4)\n"
          ],
          "name": "stdout"
        },
        {
          "output_type": "execute_result",
          "data": {
            "text/plain": [
              "(-0.5, 109.5, 44.5, -0.5)"
            ]
          },
          "metadata": {
            "tags": []
          },
          "execution_count": 41
        },
        {
          "output_type": "display_data",
          "data": {
            "image/png": "[encoded data removed]",
            "text/plain": [
              "<Figure size 432x288 with 1 Axes>"
            ]
          },
          "metadata": {
            "tags": []
          }
        }
      ]
    },
    {
      "cell_type": "code",
      "metadata": {
        "id": "dWT_LBT8Q47A",
        "colab_type": "code",
        "colab": {
          "base_uri": "https://localhost:8080/",
          "height": 221
        },
        "outputId": "9cedc120-4702-4dd2-86d5-8c89f291dc7c"
      },
      "source": [
        "from keras.preprocessing import image\n",
        "from keras.applications.imagenet_utils import preprocess_input\n",
        "\n",
        "img_path = '2.png'\n",
        "\n",
        "img = image.load_img(img_path).resize((110, 45)).convert('RGBA')\n",
        "plt.imshow(img)\n",
        "\n",
        "x = image.img_to_array(img)\n",
        "x = np.expand_dims(x, axis=0)\n",
        "print(x.shape)\n",
        "x = preprocess_input(x)\n",
        "\n",
        "print(decode(model.predict(x)))\n"
      ],
      "execution_count": 56,
      "outputs": [
        {
          "output_type": "stream",
          "text": [
            "(1, 45, 110, 4)\n",
            "94Gv\n"
          ],
          "name": "stdout"
        },
        {
          "output_type": "display_data",
          "data": {
            "image/png": "[encoded data removed]",
            "text/plain": [
              "<Figure size 432x288 with 1 Axes>"
            ]
          },
          "metadata": {
            "tags": []
          }
        }
      ]
    }
  ]
}